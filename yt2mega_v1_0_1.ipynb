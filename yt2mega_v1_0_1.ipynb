{
  "nbformat": 4,
  "nbformat_minor": 0,
  "metadata": {
    "colab": {
      "name": "yt2mega v1.0.1.ipynb",
      "provenance": [],
      "collapsed_sections": [],
      "authorship_tag": "ABX9TyMc0e/tGHcj7gNouxo/Y3x3",
      "include_colab_link": true
    },
    "kernelspec": {
      "name": "python3",
      "display_name": "Python 3"
    },
    "language_info": {
      "name": "python"
    }
  },
  "cells": [
    {
      "cell_type": "markdown",
      "metadata": {
        "id": "view-in-github",
        "colab_type": "text"
      },
      "source": [
        "<a href=\"https://colab.research.google.com/github/zavorfang/Api/blob/master/yt2mega_v1_0_1.ipynb\" target=\"_parent\"><img src=\"https://colab.research.google.com/assets/colab-badge.svg\" alt=\"Open In Colab\"/></a>"
      ]
    },
    {
      "cell_type": "code",
      "metadata": {
        "colab": {
          "base_uri": "https://localhost:8080/"
        },
        "id": "MLh6YfpVBAKS",
        "outputId": "7b718a7c-e366-4fe7-fd13-d3ac44521ba1"
      },
      "source": [
        "!pip install pytube mega.py"
      ],
      "execution_count": null,
      "outputs": [
        {
          "output_type": "stream",
          "name": "stdout",
          "text": [
            "Collecting pytube\n",
            "  Downloading pytube-11.0.1-py3-none-any.whl (56 kB)\n",
            "\u001b[?25l\r\u001b[K     |█████▉                          | 10 kB 22.0 MB/s eta 0:00:01\r\u001b[K     |███████████▋                    | 20 kB 27.2 MB/s eta 0:00:01\r\u001b[K     |█████████████████▌              | 30 kB 12.9 MB/s eta 0:00:01\r\u001b[K     |███████████████████████▎        | 40 kB 9.6 MB/s eta 0:00:01\r\u001b[K     |█████████████████████████████▏  | 51 kB 5.3 MB/s eta 0:00:01\r\u001b[K     |████████████████████████████████| 56 kB 2.0 MB/s \n",
            "\u001b[?25hCollecting mega.py\n",
            "  Downloading mega.py-1.0.8-py2.py3-none-any.whl (19 kB)\n",
            "Collecting pycryptodome<4.0.0,>=3.9.6\n",
            "  Downloading pycryptodome-3.11.0-cp35-abi3-manylinux2010_x86_64.whl (1.9 MB)\n",
            "\u001b[K     |████████████████████████████████| 1.9 MB 10.9 MB/s \n",
            "\u001b[?25hRequirement already satisfied: pathlib==1.0.1 in /usr/local/lib/python3.7/dist-packages (from mega.py) (1.0.1)\n",
            "Requirement already satisfied: requests>=0.10 in /usr/local/lib/python3.7/dist-packages (from mega.py) (2.23.0)\n",
            "Collecting tenacity<6.0.0,>=5.1.5\n",
            "  Downloading tenacity-5.1.5-py2.py3-none-any.whl (34 kB)\n",
            "Requirement already satisfied: certifi>=2017.4.17 in /usr/local/lib/python3.7/dist-packages (from requests>=0.10->mega.py) (2021.10.8)\n",
            "Requirement already satisfied: chardet<4,>=3.0.2 in /usr/local/lib/python3.7/dist-packages (from requests>=0.10->mega.py) (3.0.4)\n",
            "Requirement already satisfied: urllib3!=1.25.0,!=1.25.1,<1.26,>=1.21.1 in /usr/local/lib/python3.7/dist-packages (from requests>=0.10->mega.py) (1.24.3)\n",
            "Requirement already satisfied: idna<3,>=2.5 in /usr/local/lib/python3.7/dist-packages (from requests>=0.10->mega.py) (2.10)\n",
            "Requirement already satisfied: six>=1.9.0 in /usr/local/lib/python3.7/dist-packages (from tenacity<6.0.0,>=5.1.5->mega.py) (1.15.0)\n",
            "Installing collected packages: tenacity, pycryptodome, pytube, mega.py\n",
            "Successfully installed mega.py-1.0.8 pycryptodome-3.11.0 pytube-11.0.1 tenacity-5.1.5\n"
          ]
        }
      ]
    },
    {
      "cell_type": "code",
      "metadata": {
        "colab": {
          "base_uri": "https://localhost:8080/"
        },
        "id": "IFKQ05DTIGn9",
        "outputId": "4077c06d-637f-4ba1-ef0b-ff9e3498f0b0"
      },
      "source": [
        "from pytube import YouTube, Playlist\n",
        "import os, time, datetime\n",
        "from mega import Mega\n",
        "\n",
        "mega = Mega()\n",
        "username = \"\"\n",
        "password = \"\"\n",
        "m = mega.login(username, password)\n",
        "\n",
        "def dl_mega(path):\n",
        "  file = m.upload(f'{os.listdir(path)[0]}')\n",
        "  return m.get_upload_link(file)\n",
        "\n",
        "\n",
        "def create_dir(name=None):\n",
        "  # Directory\n",
        "  directory = name or input('Enter name of folder: ') \n",
        "\n",
        "  # Parent Directory path\n",
        "  parent_dir = \"/content\"\n",
        "    \n",
        "  # Path\n",
        "  path = os.path.join(parent_dir, directory)\n",
        "\n",
        "  # Path existence verification\n",
        "  if not os.path.exists(path):  \n",
        "    # Create the directory\n",
        "    os.mkdir(path)\n",
        "  \n",
        "  return path\n",
        "\n",
        "\n",
        "def display_qualities():\n",
        "  print('Enter:\\n[0] 720p\\n[1] 480p\\n[2] 360p\\n[3] 240p\\n[4] 144p')\n",
        "  num = input('Qualiy: ')\n",
        "  return num\n",
        "\n",
        "\n",
        "def download_fn(num):\n",
        "  res = [\"720p\", \"480p\", \"360p\", \"240p\", \"144p\"]\n",
        "\n",
        "  if num.isdigit() and int(num) <= 4:\n",
        "    num = int(num)\n",
        "    begin = time.time()\n",
        "\n",
        "    # playlist\n",
        "    if str(url).find('playlist') > 0:\n",
        "      yt = Playlist(url)\n",
        "      filesize = 0\n",
        "      path = create_dir(yt.title)\n",
        "      for video in yt.videos:\n",
        "        try:\n",
        "          stream = video.streams.filter(res=res[num]).first()\n",
        "          print(f\"Downloading selected quality: {res[num]}\")\n",
        "        except:\n",
        "          stream = video.streams.get_highest_resolution().first()\n",
        "          print(f\"Downloading highest quality\")\n",
        "        filesize += stream.filesize \n",
        "        stream.download(path)\n",
        "\n",
        "    # Single\n",
        "    else:\n",
        "      yt = YouTube(url)\n",
        "      try:\n",
        "        stream = yt.streams.filter(res=res[num]).first()\n",
        "        print(f\"Downloading selected quality: {res[num]}\")\n",
        "      except:\n",
        "        stream = yt.streams.get_highest_resolution()\n",
        "        print(f\"Downloading highest quality\")\n",
        "\n",
        "      filesize = stream.filesize\n",
        "      stream.download(path)\n",
        "\n",
        "    os.chdir(path)\n",
        "    print(dl_mega(path))\n",
        "    \n",
        "    end = time.time()\n",
        "    filesize = round(filesize/(1024*1024))\n",
        "\n",
        "    print(\"Total size copied: \", filesize, \" MB\")\n",
        "    print(\"Elapsed Time: \",int((end-begin)//60),\"min :\", int((end-begin)%60), \"sec\")\n",
        "    print(datetime.datetime.now())  \n",
        "    return None\n",
        "\n",
        "  print('ENTER 0, 1, 2, 3 or 4')\n",
        "  num = display_qualities()\n",
        "  download_fn(num)\n",
        "\n",
        "\n",
        "path = create_dir()\n",
        "\n",
        "url = input('Video/Playlist URL: ')\n",
        "\n",
        "num = display_qualities()\n",
        "download_fn(num)"
      ],
      "execution_count": null,
      "outputs": [
        {
          "output_type": "stream",
          "name": "stdout",
          "text": [
            "Enter name of folder: \n",
            "Video/Playlist URL: https://www.youtube.com/playlist?list=PLAYxecbGotUyJwMpFHVikK4cOUkbzWPwi\n",
            "Enter:\n",
            "[0] 720p\n",
            "[1] 480p\n",
            "[2] 360p\n",
            "[3] 240p\n",
            "[4] 144p\n",
            "Qualiy: 0\n",
            "Downloading selected quality: 720p\n",
            "Downloading selected quality: 720p\n",
            "Downloading selected quality: 720p\n",
            "https://mega.co.nz/#!ZYRWnTiD!73ArrIUbYxHuorKsd28M1R7xJy5cP5W4EcSFZDCodBg\n",
            "Total size copied:  74  MB\n",
            "Elapsed Time:  0 min : 23 sec\n",
            "2021-11-19 23:31:45.285776\n"
          ]
        }
      ]
    }
  ]
}